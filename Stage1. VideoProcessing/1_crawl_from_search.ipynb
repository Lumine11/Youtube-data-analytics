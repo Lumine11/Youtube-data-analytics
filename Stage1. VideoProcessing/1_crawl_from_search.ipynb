{
 "cells": [
  {
   "cell_type": "markdown",
   "id": "69ac99fe",
   "metadata": {},
   "source": [
    "# Stage 1: Tìm hiểu và crawl data các video nổi bật, tiền xử lí\n"
   ]
  },
  {
   "cell_type": "code",
   "execution_count": null,
   "id": "259a2adf",
   "metadata": {},
   "outputs": [],
   "source": [
    "import requests\n",
    "import json\n",
    "import time\n",
    "from datetime import datetime"
   ]
  },
  {
   "cell_type": "code",
   "execution_count": null,
   "id": "281fd836",
   "metadata": {},
   "outputs": [],
   "source": [
    "import os\n",
    "from dotenv import load_dotenv\n",
    "from pathlib import Path\n",
    "\n",
    "parent_env_path = Path.cwd().parent / \".env\"\n",
    "load_dotenv(dotenv_path=parent_env_path)\n",
    "API_KEY = os.getenv(\"API_KEY_1\")"
   ]
  },
  {
   "cell_type": "code",
   "execution_count": null,
   "id": "196d59fa",
   "metadata": {},
   "outputs": [],
   "source": [
    "SEARCH_URL = \"https://www.googleapis.com/youtube/v3/search\""
   ]
  },
  {
   "cell_type": "code",
   "execution_count": null,
   "id": "13caf27f",
   "metadata": {},
   "outputs": [],
   "source": [
    "def crawl_youtube_videos(api_key, keywords, max_results=300):\n",
    "    results = []\n",
    "    today = datetime.now().strftime(\"%Y-%m-%d %H:%M:%S\")\n",
    "\n",
    "    for keyword in keywords:\n",
    "        print(f\"🔍 Crawling keyword: {keyword}\")\n",
    "        next_page_token = None\n",
    "        total_collected = 0\n",
    "\n",
    "        while total_collected < max_results:\n",
    "            params = {\n",
    "                \"part\": \"snippet\",\n",
    "                \"q\": keyword,\n",
    "                \"type\": \"video\",\n",
    "                \"order\": \"relevance\",\n",
    "                \"maxResults\": 50,\n",
    "                \"key\": api_key,\n",
    "            }\n",
    "            if next_page_token:\n",
    "                params[\"pageToken\"] = next_page_token\n",
    "\n",
    "            response = requests.get(SEARCH_URL, params=params)\n",
    "            if response.status_code != 200:\n",
    "                print(\"❌ Error:\", response.text)\n",
    "                break\n",
    "\n",
    "            data = response.json()\n",
    "            for item in data.get(\"items\", []):\n",
    "                snippet = item[\"snippet\"]\n",
    "                video_data = {\n",
    "                    \"videoId\": item[\"id\"][\"videoId\"],\n",
    "                    \"title\": snippet[\"title\"],\n",
    "                    \"description\": snippet[\"description\"],\n",
    "                    \"channelId\": snippet[\"channelId\"],\n",
    "                    \"channelTitle\": snippet[\"channelTitle\"],\n",
    "                    \"publishedAt\": snippet[\"publishedAt\"],\n",
    "                    \"searchKeyword\": keyword,\n",
    "                    \"crawlDate\": today\n",
    "                }\n",
    "                results.append(video_data)\n",
    "                total_collected += 1\n",
    "\n",
    "            next_page_token = data.get(\"nextPageToken\")\n",
    "            if not next_page_token:\n",
    "                break\n",
    "\n",
    "            time.sleep(0.1)  # tránh bị giới hạn API\n",
    "\n",
    "    return results\n"
   ]
  },
  {
   "cell_type": "code",
   "execution_count": null,
   "id": "0cfd8bdc",
   "metadata": {},
   "outputs": [],
   "source": [
    "keywords = [\n",
    "    \"AI tool\", \"Artificial Intelligence\", \"AI agent\",\n",
    "    \"Generative AI\", \"AI Automation\", \"AI for\", \"Learn AI\"\n",
    "]\n",
    "\n",
    "results = crawl_youtube_videos(API_KEY, keywords)\n",
    "# Lưu kết quả\n",
    "with open(\"../data/raw/video_search_result/ai_videos_snippets.json\", \"w\", encoding=\"utf-8\") as f:\n",
    "    json.dump(results, f, indent=2, ensure_ascii=False)"
   ]
  },
  {
   "cell_type": "code",
   "execution_count": null,
   "id": "c7eae9a9",
   "metadata": {},
   "outputs": [],
   "source": [
    "results = []\n",
    "keywords = [\n",
    "    \"AI Algorithms\", \"AI in Business\",\n",
    "    \"Prompt Engineering\", \"AI for Data Science\", \"AI for Project Management\",\n",
    "    \"AI in Education\", \"AI Career\", \"AI Productivity\",  \"xAI\",\n",
    "    \"AI and Big Data\", \"AI for Developers\", \"ChatGPT\", \"Cursor AI\", \"Claude AI\", \"Google Gemini\", \"No/low code AI\",\n",
    "]\n",
    "\n",
    "results = crawl_youtube_videos(API_KEY, keywords, max_results=200)\n",
    "\n",
    "with open(\"../data/raw/video_search_result/ai_videos_snippets_v2.json\", \"w\", encoding=\"utf-8\") as f:\n",
    "    json.dump(results, f, indent=2, ensure_ascii=False)"
   ]
  },
  {
   "cell_type": "code",
   "execution_count": null,
   "id": "999f0a4b",
   "metadata": {},
   "outputs": [],
   "source": [
    "results = []\n",
    "keywords = [\n",
    "    \"AI tutorial\", \"Machine Learning AI\", \"Deep Learning AI\",\n",
    "    \"AI coding\", \"Chatbox AI\", \"How to AI\", \"Latest AI\", \"AI application\", \"AI robot\", \"AI trends\"\n",
    "]\n",
    "results = crawl_youtube_videos(API_KEY, keywords, max_results=200)\n",
    "\n",
    "with open(\"../data/raw/video_search_result/ai_videos_snippets_v3.json\", \"w\", encoding=\"utf-8\") as f:\n",
    "    json.dump(results, f, indent=2, ensure_ascii=False)"
   ]
  }
 ],
 "metadata": {
  "kernelspec": {
   "display_name": "min_ds",
   "language": "python",
   "name": "python3"
  },
  "language_info": {
   "codemirror_mode": {
    "name": "ipython",
    "version": 3
   },
   "file_extension": ".py",
   "mimetype": "text/x-python",
   "name": "python",
   "nbconvert_exporter": "python",
   "pygments_lexer": "ipython3",
   "version": "3.12.2"
  }
 },
 "nbformat": 4,
 "nbformat_minor": 5
}

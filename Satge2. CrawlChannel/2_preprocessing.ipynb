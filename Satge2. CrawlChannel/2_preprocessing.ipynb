{
 "cells": [
  {
   "cell_type": "code",
   "execution_count": 2,
   "id": "6284fb20",
   "metadata": {},
   "outputs": [],
   "source": [
    "import os\n",
    "from dotenv import load_dotenv\n",
    "from pathlib import Path\n",
    "\n",
    "parent_env_path = Path.cwd().parent / \".env\"\n",
    "load_dotenv(dotenv_path=parent_env_path)\n",
    "os.environ[\"GOOGLE_APPLICATION_CREDENTIALS\"] = os.getenv(\"GOOGLE_APPLICATION_CREDENTIALS\")\n",
    "project_id = os.getenv(\"PROJECT_ID\")"
   ]
  },
  {
   "cell_type": "code",
   "execution_count": 9,
   "id": "6b486bd6",
   "metadata": {},
   "outputs": [],
   "source": [
    "from google.cloud import storage\n",
    "import pandas as pd\n",
    "from io import StringIO"
   ]
  },
  {
   "cell_type": "code",
   "execution_count": 7,
   "id": "45579ff7",
   "metadata": {},
   "outputs": [
    {
     "data": {
      "text/plain": [
       "['1_crawl/channel_raw_info/channel_raw_info_20250614.json']"
      ]
     },
     "execution_count": 7,
     "metadata": {},
     "output_type": "execute_result"
    }
   ],
   "source": [
    "client = storage.Client(project=project_id)\n",
    "bucket = client.bucket(\"ytbdata\")\n",
    "path =r'1_crawl/channel_raw_info'\n",
    "\n",
    "blobs = bucket.list_blobs(prefix=path)\n",
    "list_file = []\n",
    "for blob in blobs:\n",
    "    list_file.append(blob.name)\n",
    "list_file"
   ]
  },
  {
   "cell_type": "code",
   "execution_count": 10,
   "id": "1163a7f8",
   "metadata": {},
   "outputs": [
    {
     "name": "stdout",
     "output_type": "stream",
     "text": [
      "Processing 1_crawl/channel_raw_info/channel_raw_info_20250614.json with 4230 rows\n"
     ]
    }
   ],
   "source": [
    "#download files \n",
    "for file in list_file:\n",
    "    blob = bucket.blob(file)\n",
    "    content = blob.download_as_text()\n",
    "    df = pd.read_json(StringIO(content))\n",
    "    print(f\"Processing {file} with {len(df)} rows\")\n"
   ]
  },
  {
   "cell_type": "code",
   "execution_count": 11,
   "id": "7abf611d",
   "metadata": {},
   "outputs": [
    {
     "data": {
      "text/html": [
       "<div>\n",
       "<style scoped>\n",
       "    .dataframe tbody tr th:only-of-type {\n",
       "        vertical-align: middle;\n",
       "    }\n",
       "\n",
       "    .dataframe tbody tr th {\n",
       "        vertical-align: top;\n",
       "    }\n",
       "\n",
       "    .dataframe thead th {\n",
       "        text-align: right;\n",
       "    }\n",
       "</style>\n",
       "<table border=\"1\" class=\"dataframe\">\n",
       "  <thead>\n",
       "    <tr style=\"text-align: right;\">\n",
       "      <th></th>\n",
       "      <th>kind</th>\n",
       "      <th>etag</th>\n",
       "      <th>id</th>\n",
       "      <th>snippet</th>\n",
       "      <th>contentDetails</th>\n",
       "      <th>statistics</th>\n",
       "      <th>topicDetails</th>\n",
       "    </tr>\n",
       "  </thead>\n",
       "  <tbody>\n",
       "    <tr>\n",
       "      <th>0</th>\n",
       "      <td>youtube#channel</td>\n",
       "      <td>PHvKkZujxh6sbIk4W2FdkSOhb-0</td>\n",
       "      <td>UCCK6b9W7w4dJ6ZtclFZdpsA</td>\n",
       "      <td>{'title': 'MoeMoe', 'description': 'Just a sim...</td>\n",
       "      <td>{'relatedPlaylists': {'likes': '', 'uploads': ...</td>\n",
       "      <td>{'viewCount': '685008', 'subscriberCount': '22...</td>\n",
       "      <td>{'topicIds': ['/m/0bzvm2', '/m/02jjt'], 'topic...</td>\n",
       "    </tr>\n",
       "    <tr>\n",
       "      <th>1</th>\n",
       "      <td>youtube#channel</td>\n",
       "      <td>JkuJ7ZgGrF1SGP7GhdGdQbujclE</td>\n",
       "      <td>UCW7AGm8JSBEEew61dJIgl_A</td>\n",
       "      <td>{'title': 'Tom Cardy', 'description': 'Music a...</td>\n",
       "      <td>{'relatedPlaylists': {'likes': '', 'uploads': ...</td>\n",
       "      <td>{'viewCount': '530671762', 'subscriberCount': ...</td>\n",
       "      <td>{'topicIds': ['/m/05rwpb', '/m/04rlf', '/m/064...</td>\n",
       "    </tr>\n",
       "    <tr>\n",
       "      <th>2</th>\n",
       "      <td>youtube#channel</td>\n",
       "      <td>69waZ5gTacBkY7xVN-YCkDsjs9w</td>\n",
       "      <td>UCRVtlcqayOmyuLIDrT3ng1w</td>\n",
       "      <td>{'title': 'Jay &amp; Sharon', 'description': 'Jay ...</td>\n",
       "      <td>{'relatedPlaylists': {'likes': '', 'uploads': ...</td>\n",
       "      <td>{'viewCount': '10245270378', 'subscriberCount'...</td>\n",
       "      <td>{'topicIds': ['/m/02jjt', '/m/019_rr'], 'topic...</td>\n",
       "    </tr>\n",
       "    <tr>\n",
       "      <th>3</th>\n",
       "      <td>youtube#channel</td>\n",
       "      <td>xDOJ09DwDM6hpwZRuYCf3JMKLMs</td>\n",
       "      <td>UCJ-lUkI7HFBXUG16RYQYWxw</td>\n",
       "      <td>{'title': 'Cartrack', 'description': 'As a glo...</td>\n",
       "      <td>{'relatedPlaylists': {'likes': '', 'uploads': ...</td>\n",
       "      <td>{'viewCount': '4799700', 'subscriberCount': '1...</td>\n",
       "      <td>{'topicIds': ['/m/07yv9', '/m/019_rr'], 'topic...</td>\n",
       "    </tr>\n",
       "    <tr>\n",
       "      <th>4</th>\n",
       "      <td>youtube#channel</td>\n",
       "      <td>bSzdwbE-9zsMNEVjU6lRKrPAo34</td>\n",
       "      <td>UCFGBxznLew-4-j0LESic87A</td>\n",
       "      <td>{'title': 'Places To Visit', 'description': 'I...</td>\n",
       "      <td>{'relatedPlaylists': {'likes': '', 'uploads': ...</td>\n",
       "      <td>{'viewCount': '32186260', 'subscriberCount': '...</td>\n",
       "      <td>{'topicIds': ['/m/019_rr', '/g/120yrv6h'], 'to...</td>\n",
       "    </tr>\n",
       "  </tbody>\n",
       "</table>\n",
       "</div>"
      ],
      "text/plain": [
       "              kind                         etag                        id  \\\n",
       "0  youtube#channel  PHvKkZujxh6sbIk4W2FdkSOhb-0  UCCK6b9W7w4dJ6ZtclFZdpsA   \n",
       "1  youtube#channel  JkuJ7ZgGrF1SGP7GhdGdQbujclE  UCW7AGm8JSBEEew61dJIgl_A   \n",
       "2  youtube#channel  69waZ5gTacBkY7xVN-YCkDsjs9w  UCRVtlcqayOmyuLIDrT3ng1w   \n",
       "3  youtube#channel  xDOJ09DwDM6hpwZRuYCf3JMKLMs  UCJ-lUkI7HFBXUG16RYQYWxw   \n",
       "4  youtube#channel  bSzdwbE-9zsMNEVjU6lRKrPAo34  UCFGBxznLew-4-j0LESic87A   \n",
       "\n",
       "                                             snippet  \\\n",
       "0  {'title': 'MoeMoe', 'description': 'Just a sim...   \n",
       "1  {'title': 'Tom Cardy', 'description': 'Music a...   \n",
       "2  {'title': 'Jay & Sharon', 'description': 'Jay ...   \n",
       "3  {'title': 'Cartrack', 'description': 'As a glo...   \n",
       "4  {'title': 'Places To Visit', 'description': 'I...   \n",
       "\n",
       "                                      contentDetails  \\\n",
       "0  {'relatedPlaylists': {'likes': '', 'uploads': ...   \n",
       "1  {'relatedPlaylists': {'likes': '', 'uploads': ...   \n",
       "2  {'relatedPlaylists': {'likes': '', 'uploads': ...   \n",
       "3  {'relatedPlaylists': {'likes': '', 'uploads': ...   \n",
       "4  {'relatedPlaylists': {'likes': '', 'uploads': ...   \n",
       "\n",
       "                                          statistics  \\\n",
       "0  {'viewCount': '685008', 'subscriberCount': '22...   \n",
       "1  {'viewCount': '530671762', 'subscriberCount': ...   \n",
       "2  {'viewCount': '10245270378', 'subscriberCount'...   \n",
       "3  {'viewCount': '4799700', 'subscriberCount': '1...   \n",
       "4  {'viewCount': '32186260', 'subscriberCount': '...   \n",
       "\n",
       "                                        topicDetails  \n",
       "0  {'topicIds': ['/m/0bzvm2', '/m/02jjt'], 'topic...  \n",
       "1  {'topicIds': ['/m/05rwpb', '/m/04rlf', '/m/064...  \n",
       "2  {'topicIds': ['/m/02jjt', '/m/019_rr'], 'topic...  \n",
       "3  {'topicIds': ['/m/07yv9', '/m/019_rr'], 'topic...  \n",
       "4  {'topicIds': ['/m/019_rr', '/g/120yrv6h'], 'to...  "
      ]
     },
     "execution_count": 11,
     "metadata": {},
     "output_type": "execute_result"
    }
   ],
   "source": [
    "df.head()"
   ]
  }
 ],
 "metadata": {
  "kernelspec": {
   "display_name": "min_ds",
   "language": "python",
   "name": "python3"
  },
  "language_info": {
   "codemirror_mode": {
    "name": "ipython",
    "version": 3
   },
   "file_extension": ".py",
   "mimetype": "text/x-python",
   "name": "python",
   "nbconvert_exporter": "python",
   "pygments_lexer": "ipython3",
   "version": "3.12.2"
  }
 },
 "nbformat": 4,
 "nbformat_minor": 5
}
